{
 "cells": [
  {
   "cell_type": "markdown",
   "id": "6856b422-6bb4-4189-961e-3777771bd26f",
   "metadata": {},
   "source": [
    "# BERT for Q/A\n",
    "\n",
    "Resources:\n",
    "- Article: https://mccormickml.com/2020/03/10/question-answering-with-a-fine-tuned-BERT/\n",
    "- Colab: https://colab.research.google.com/drive/1uSlWtJdZmLrI3FCNIlUHFxwAJiSu2J0"
   ]
  },
  {
   "cell_type": "code",
   "execution_count": 1,
   "id": "abf5677b-9273-4f75-b56d-dcc9ab12f91b",
   "metadata": {},
   "outputs": [
    {
     "name": "stdout",
     "output_type": "stream",
     "text": [
      "/Users/danorel/Workspace/Education/University/KMA/Labs/Computer Linguistics/qaert\n"
     ]
    }
   ],
   "source": [
    "%cd .."
   ]
  },
  {
   "cell_type": "code",
   "execution_count": 2,
   "id": "67fe3d25-4daf-408a-952e-31e6685f7475",
   "metadata": {},
   "outputs": [],
   "source": [
    "import torch\n",
    "import textwrap\n",
    "import matplotlib.pyplot as plt\n",
    "import seaborn as sns\n",
    "import pandas as pd\n",
    "\n",
    "from transformers import BertForQuestionAnswering, BertTokenizer"
   ]
  },
  {
   "cell_type": "code",
   "execution_count": 3,
   "id": "aee6fae6-7d1e-42a6-8c5a-1370e0f15a0b",
   "metadata": {},
   "outputs": [],
   "source": [
    "model = BertForQuestionAnswering.from_pretrained('bert-large-uncased-whole-word-masking-finetuned-squad')"
   ]
  },
  {
   "cell_type": "code",
   "execution_count": 4,
   "id": "90bd29dc-0691-4594-955d-736f55a3940e",
   "metadata": {},
   "outputs": [],
   "source": [
    "tokenizer = BertTokenizer.from_pretrained('bert-large-uncased-whole-word-masking-finetuned-squad')"
   ]
  },
  {
   "cell_type": "code",
   "execution_count": 5,
   "id": "6293b1cd-3ac9-4976-a0a5-9fb1341eab50",
   "metadata": {},
   "outputs": [],
   "source": [
    "# Use plot styling from seaborn.\n",
    "sns.set(style='darkgrid')\n",
    "\n",
    "# Increase the plot size and font size.\n",
    "#sns.set(font_scale=1.5)\n",
    "plt.rcParams[\"figure.figsize\"] = (16,8)"
   ]
  },
  {
   "cell_type": "code",
   "execution_count": 6,
   "id": "bd84cc96-ec2e-4216-91b7-bfc17b34d2bb",
   "metadata": {},
   "outputs": [],
   "source": [
    "def answer_question(question, answer_text, visualise=False):\n",
    "    '''\n",
    "    Takes a `question` string and an `answer_text` string (which contains the\n",
    "    answer), and identifies the words within the `answer_text` that are the\n",
    "    answer. Prints them out.\n",
    "    '''\n",
    "    # ======== Tokenize ========\n",
    "    # Apply the tokenizer to the input text, treating them as a text-pair.\n",
    "    input_ids = tokenizer.encode(question, answer_text)\n",
    "\n",
    "    # Report how long the input sequence is.\n",
    "    print('Query has {:,} tokens.\\n'.format(len(input_ids)))\n",
    "\n",
    "    # ======== Set Segment IDs ========\n",
    "    # Search the input_ids for the first instance of the `[SEP]` token.\n",
    "    sep_index = input_ids.index(tokenizer.sep_token_id)\n",
    "\n",
    "    # The number of segment A tokens includes the [SEP] token istelf.\n",
    "    num_seg_a = sep_index + 1\n",
    "\n",
    "    # The remainder are segment B.\n",
    "    num_seg_b = len(input_ids) - num_seg_a\n",
    "\n",
    "    # Construct the list of 0s and 1s.\n",
    "    segment_ids = [0]*num_seg_a + [1]*num_seg_b\n",
    "\n",
    "    # There should be a segment_id for every input token.\n",
    "    assert len(segment_ids) == len(input_ids)\n",
    "\n",
    "    # ======== Evaluate ========\n",
    "    # Run our example through the model.\n",
    "    outputs = model(torch.tensor([input_ids]), # The tokens representing our input text.\n",
    "                    token_type_ids=torch.tensor([segment_ids]), # The segment IDs to differentiate question from answer_text\n",
    "                    return_dict=True) \n",
    "\n",
    "    print(outputs)\n",
    "    \n",
    "    start_scores = outputs.start_logits\n",
    "    end_scores = outputs.end_logits\n",
    "\n",
    "    # ======== Reconstruct Answer ========\n",
    "    # Find the tokens with the highest `start` and `end` scores.\n",
    "    answer_start = torch.argmax(start_scores)\n",
    "    answer_end = torch.argmax(end_scores)\n",
    "\n",
    "    # Get the string versions of the input tokens.\n",
    "    tokens = tokenizer.convert_ids_to_tokens(input_ids)\n",
    "\n",
    "    # Start with the first token.\n",
    "    answer = tokens[answer_start]\n",
    "\n",
    "    # Select the remaining answer tokens and join them with whitespace.\n",
    "    for i in range(answer_start + 1, answer_end + 1):\n",
    "        \n",
    "        # If it's a subword token, then recombine it with the previous token.\n",
    "        if tokens[i][0:2] == '##':\n",
    "            answer += tokens[i][2:]\n",
    "        \n",
    "        # Otherwise, add a space then the token.\n",
    "        else:\n",
    "            answer += ' ' + tokens[i]\n",
    "            \n",
    "    if visualise:\n",
    "        # Visualise\n",
    "\n",
    "        # Pull the scores out of PyTorch Tensors and convert them to 1D numpy arrays.\n",
    "        s_scores = start_scores.detach().numpy().flatten()\n",
    "        e_scores = end_scores.detach().numpy().flatten()\n",
    "\n",
    "        # We'll use the tokens as the x-axis labels. In order to do that, they all need\n",
    "        # to be unique, so we'll add the token index to the end of each one.\n",
    "        token_labels = []\n",
    "        for (i, token) in enumerate(tokens):\n",
    "            token_labels.append('{:} - {:>2}'.format(token, i))\n",
    "\n",
    "        # Store the tokens and scores in a DataFrame. \n",
    "        # Each token will have two rows, one for its start score and one for its end\n",
    "        # score. The \"marker\" column will differentiate them. A little wacky, I know.\n",
    "        scores = []\n",
    "        for (i, token_label) in enumerate(token_labels):\n",
    "\n",
    "            # Add the token's start score as one row.\n",
    "            scores.append({'token_label': token_label, \n",
    "                           'score': s_scores[i],\n",
    "                           'marker': 'start'})\n",
    "\n",
    "            # Add  the token's end score as another row.\n",
    "            scores.append({'token_label': token_label, \n",
    "                           'score': e_scores[i],\n",
    "                           'marker': 'end'})\n",
    "\n",
    "        df = pd.DataFrame(scores)\n",
    "        \n",
    "        # Draw a grouped barplot to show start and end scores for each word.\n",
    "        # The \"hue\" parameter is where we tell it which datapoints belong to which\n",
    "        # of the two series.\n",
    "        g = sns.catplot(x=\"token_label\", y=\"score\", hue=\"marker\", data=df,\n",
    "                        kind=\"bar\", height=6, aspect=4)\n",
    "\n",
    "        # Turn the xlabels vertical.\n",
    "        g.set_xticklabels(g.ax.get_xticklabels(), rotation=90, ha=\"center\")\n",
    "\n",
    "        # Turn on the vertical grid to help align words to scores.\n",
    "        g.ax.grid(True)\n",
    "\n",
    "        plt.title('Word Scores')\n",
    "\n",
    "        plt.show()\n",
    "\n",
    "    return answer"
   ]
  }
 ],
 "metadata": {
  "kernelspec": {
   "display_name": "Python 3 (ipykernel)",
   "language": "python",
   "name": "python3"
  },
  "language_info": {
   "codemirror_mode": {
    "name": "ipython",
    "version": 3
   },
   "file_extension": ".py",
   "mimetype": "text/x-python",
   "name": "python",
   "nbconvert_exporter": "python",
   "pygments_lexer": "ipython3",
   "version": "3.10.9"
  }
 },
 "nbformat": 4,
 "nbformat_minor": 5
}
